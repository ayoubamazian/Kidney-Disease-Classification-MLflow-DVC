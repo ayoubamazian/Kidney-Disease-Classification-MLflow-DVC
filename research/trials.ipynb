{
 "cells": [
  {
   "cell_type": "code",
   "execution_count": 2,
   "metadata": {},
   "outputs": [],
   "source": [
    "import os\n",
    "\n",
    "os.environ[\"MLFLOW_TRACKING_URI\"]=\"https://dagshub.com/ayoubamazyan26/Kidney-Disease-Classification-MLflow-DVC.mlflow\"\n",
    "os.environ[\"MLFLOW_TRACKING_USERNAME\"]=\"ayoubamazyan26\"\n",
    "os.environ[\"MLFLOW_TRACKING_PASSWORD\"]=\"54b504ca951767fee95ad37a5a0701b00f37fd55\""
   ]
  },
  {
   "cell_type": "code",
   "execution_count": null,
   "metadata": {},
   "outputs": [],
   "source": []
  }
 ],
 "metadata": {
  "kernelspec": {
   "display_name": "cnnkidney",
   "language": "python",
   "name": "python3"
  },
  "language_info": {
   "codemirror_mode": {
    "name": "ipython",
    "version": 3
   },
   "file_extension": ".py",
   "mimetype": "text/x-python",
   "name": "python",
   "nbconvert_exporter": "python",
   "pygments_lexer": "ipython3",
   "version": "3.8.18"
  }
 },
 "nbformat": 4,
 "nbformat_minor": 2
}
